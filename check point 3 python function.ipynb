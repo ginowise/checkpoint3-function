{
 "cells": [
  {
   "cell_type": "code",
   "execution_count": 1,
   "id": "143c2805",
   "metadata": {},
   "outputs": [
    {
     "name": "stdout",
     "output_type": "stream",
     "text": [
      "35\n"
     ]
    }
   ],
   "source": [
    "# Question 1\n",
    "\n",
    "# Write a Python function to find the Max of three numbers.\n",
    "# for example, the max of these three numbers 20, 35, 19 is 35\n",
    "\n",
    "def maximum(x, y, z):\n",
    "    list = [x, y, z]\n",
    "    return max(list)\n",
    "   \n",
    "x = 20\n",
    "y = 35\n",
    "z = 19\n",
    "print(maximum(x, y, z))"
   ]
  },
  {
   "cell_type": "code",
   "execution_count": 2,
   "id": "7a787236",
   "metadata": {},
   "outputs": [
    {
     "name": "stdout",
     "output_type": "stream",
     "text": [
      "(50, 30)\n"
     ]
    }
   ],
   "source": [
    "# Question 2\n",
    "\n",
    "# Write a function calculation() such that it can accept two variables and calculate the addition and subtraction of it. \n",
    "# And also it must return both addition and subtraction in a single return call\n",
    "#For example:\n",
    "# calculation(40, 10) should produce 50, 30\n",
    "\n",
    "\n",
    "def calculation(a, b):\n",
    "    addition = a + b\n",
    "    subtraction = a - b\n",
    "    \n",
    "    return addition, subtraction\n",
    "\n",
    "\n",
    "res = calculation (40, 10)\n",
    "print(res)"
   ]
  },
  {
   "cell_type": "code",
   "execution_count": 4,
   "id": "21e72b94",
   "metadata": {},
   "outputs": [
    {
     "name": "stdout",
     "output_type": "stream",
     "text": [
      "10\n",
      "24\n"
     ]
    }
   ],
   "source": [
    "# Question 3\n",
    "\n",
    "# * Write a function that sums the elements of a list of integers.\n",
    "# * Write a function that multiplies the elements of an integer list.\n",
    "# * Use the two functions to sum the elements whose position is an even number (0,2,4…) and multiply the rest.\n",
    "# Hint: Consider extracting two lists from a first list \n",
    "\n",
    "\n",
    "def sum(numbers):\n",
    "    total = 0\n",
    "    for number in numbers:\n",
    "        total += number\n",
    "    return total\n",
    "\n",
    "\n",
    "def multiply(numbers):\n",
    "    total = 1\n",
    "    for number in numbers:\n",
    "        total = total * number\n",
    "    return total\n",
    "\n",
    "\n",
    "if __name__ == \"__main__\":\n",
    "  print (sum([1, 2, 3, 4]))\n",
    "  print (multiply([1, 2, 3, 4]))"
   ]
  },
  {
   "cell_type": "code",
   "execution_count": 6,
   "id": "ac08d867",
   "metadata": {},
   "outputs": [
    {
     "name": "stdout",
     "output_type": "stream",
     "text": [
      "black-green-red-white-yellow\n"
     ]
    }
   ],
   "source": [
    "# Question 4\n",
    "\n",
    "# Write a Python program that accepts a hyphen-separated sequence of words as\n",
    "# input and prints the words in a hyphen-separated sequence after sorting them\n",
    "# Sample Items : green-red-yellow-black-white\n",
    "# Expected Result : black-green-red-white-yellow\n",
    "# Hint : There's a split function to separate your input string into words and a sort function to sort.\n",
    "# inputs = \"green-red-yellow-black-white\"\n",
    "\n",
    "def sort_inputs(inputs):\n",
    "    inputs_list = inputs.split('-')\n",
    "    \n",
    "    sorted_input = sorted(inputs_list)\n",
    "    \n",
    "    final = \"-\".join(term for term in sorted_input)\n",
    "    \n",
    "    return final\n",
    "\n",
    "final = sort_inputs(inputs)\n",
    "\n",
    "print(final)\n"
   ]
  },
  {
   "cell_type": "code",
   "execution_count": 1,
   "id": "c7503502",
   "metadata": {},
   "outputs": [
    {
     "name": "stdout",
     "output_type": "stream",
     "text": [
      "Input Values\n",
      "100,150,180\n",
      "The followings output are\n",
      "18,22,24\n"
     ]
    }
   ],
   "source": [
    "#  Question 5\n",
    "\n",
    "#  Write a function that calculates and prints the value according to the given formula: \n",
    "#  Q = Square root of [(2 * C * D)/H] Following are the fixed values of C and\n",
    "#  H: C is 50. H is 30. D is the variable whose values should be input to your program in a comma-separated sequence.\n",
    "#  Example Let us assume the following comma\n",
    "#  separated input sequence is given to the function: 100,150,180 The output of the program should be: 18,22,24 \n",
    "#  Hints: If the output received is in decimal form, it should be rounded off to its nearest value (for example, \n",
    "#  if the output received is 26.0, it should be printed as 26)  In case of input data being supplied to the question, \n",
    "#  it should be assumed to be a console input. \n",
    "    \n",
    "\n",
    "\n",
    "import math\n",
    "\n",
    "c = 50\n",
    "\n",
    "h = 30\n",
    "\n",
    "\n",
    "value = []\n",
    "\n",
    "print(\"Input Values\")\n",
    "\n",
    "items = [x for x in input().split(',')]\n",
    "\n",
    "for d in items:\n",
    "\n",
    "    value.append(str(int(round(math.sqrt(2*c*float(d)/h)))))\n",
    "\n",
    "\n",
    "print(\"The followings output are\")\n",
    "\n",
    "print(','.join(value))"
   ]
  },
  {
   "cell_type": "code",
   "execution_count": null,
   "id": "e03b8eab",
   "metadata": {},
   "outputs": [],
   "source": []
  }
 ],
 "metadata": {
  "kernelspec": {
   "display_name": "Python 3 (ipykernel)",
   "language": "python",
   "name": "python3"
  },
  "language_info": {
   "codemirror_mode": {
    "name": "ipython",
    "version": 3
   },
   "file_extension": ".py",
   "mimetype": "text/x-python",
   "name": "python",
   "nbconvert_exporter": "python",
   "pygments_lexer": "ipython3",
   "version": "3.9.7"
  }
 },
 "nbformat": 4,
 "nbformat_minor": 5
}
